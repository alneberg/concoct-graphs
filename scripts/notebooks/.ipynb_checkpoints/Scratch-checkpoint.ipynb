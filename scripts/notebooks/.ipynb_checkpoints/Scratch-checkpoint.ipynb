{
 "metadata": {
  "name": ""
 },
 "nbformat": 3,
 "nbformat_minor": 0,
 "worksheets": [
  {
   "cells": [
    {
     "cell_type": "code",
     "collapsed": false,
     "input": [
      "import numpy as np"
     ],
     "language": "python",
     "metadata": {},
     "outputs": [],
     "prompt_number": 29
    },
    {
     "cell_type": "code",
     "collapsed": false,
     "input": [
      "import pandas as p\n",
      "import ggplot"
     ],
     "language": "python",
     "metadata": {},
     "outputs": [],
     "prompt_number": 30
    },
    {
     "cell_type": "code",
     "collapsed": false,
     "input": [
      "n, m = 20, 2\n",
      "\n",
      "# generate random sample, two components\n",
      "np.random.seed(0)\n",
      "C = np.array([[0., -0.7], [5.5, .7]])"
     ],
     "language": "python",
     "metadata": {},
     "outputs": [],
     "prompt_number": 94
    },
    {
     "cell_type": "code",
     "collapsed": false,
     "input": [
      "C"
     ],
     "language": "python",
     "metadata": {},
     "outputs": [
      {
       "metadata": {},
       "output_type": "pyout",
       "prompt_number": 95,
       "text": [
        "array([[ 0. , -0.7],\n",
        "       [ 5.5,  0.7]])"
       ]
      }
     ],
     "prompt_number": 95
    },
    {
     "cell_type": "code",
     "collapsed": false,
     "input": [
      "A = np.dot(np.random.randn(n, 2), C)\n",
      "B = np.random.randn(n, 2) + np.array([3, 3])"
     ],
     "language": "python",
     "metadata": {},
     "outputs": [],
     "prompt_number": 96
    },
    {
     "cell_type": "code",
     "collapsed": false,
     "input": [
      "scatter(A[:,0],A[:,1])\n",
      "scatter(B[:,0],B[:,1],c='r')"
     ],
     "language": "python",
     "metadata": {},
     "outputs": [
      {
       "metadata": {},
       "output_type": "pyout",
       "prompt_number": 97,
       "text": [
        "<matplotlib.collections.PathCollection at 0x77fe6d0>"
       ]
      },
      {
       "metadata": {},
       "output_type": "display_data",
       "png": "[encoded data removed]",
       "text": [
        "<matplotlib.figure.Figure at 0x7725450>"
       ]
      }
     ],
     "prompt_number": 97
    },
    {
     "cell_type": "code",
     "collapsed": false,
     "input": [
      "C = np.random.randn(n, 2)\n",
      "C"
     ],
     "language": "python",
     "metadata": {},
     "outputs": [
      {
       "metadata": {},
       "output_type": "pyout",
       "prompt_number": 98,
       "text": [
        "array([[-1.16514984,  0.90082649],\n",
        "       [ 0.46566244, -1.53624369],\n",
        "       [ 1.48825219,  1.89588918],\n",
        "       [ 1.17877957, -0.17992484],\n",
        "       [-1.07075262,  1.05445173],\n",
        "       [-0.40317695,  1.22244507],\n",
        "       [ 0.20827498,  0.97663904],\n",
        "       [ 0.3563664 ,  0.70657317],\n",
        "       [ 0.01050002,  1.78587049],\n",
        "       [ 0.12691209,  0.40198936],\n",
        "       [ 1.8831507 , -1.34775906],\n",
        "       [-1.270485  ,  0.96939671],\n",
        "       [-1.17312341,  1.94362119],\n",
        "       [-0.41361898, -0.74745481],\n",
        "       [ 1.92294203,  1.48051479],\n",
        "       [ 1.86755896,  0.90604466],\n",
        "       [-0.86122569,  1.91006495],\n",
        "       [-0.26800337,  0.8024564 ],\n",
        "       [ 0.94725197, -0.15501009],\n",
        "       [ 0.61407937,  0.92220667]])"
       ]
      }
     ],
     "prompt_number": 98
    },
    {
     "cell_type": "code",
     "collapsed": false,
     "input": [
      "C + np.array([3, 3])"
     ],
     "language": "python",
     "metadata": {},
     "outputs": [
      {
       "metadata": {},
       "output_type": "pyout",
       "prompt_number": 99,
       "text": [
        "array([[ 1.83485016,  3.90082649],\n",
        "       [ 3.46566244,  1.46375631],\n",
        "       [ 4.48825219,  4.89588918],\n",
        "       [ 4.17877957,  2.82007516],\n",
        "       [ 1.92924738,  4.05445173],\n",
        "       [ 2.59682305,  4.22244507],\n",
        "       [ 3.20827498,  3.97663904],\n",
        "       [ 3.3563664 ,  3.70657317],\n",
        "       [ 3.01050002,  4.78587049],\n",
        "       [ 3.12691209,  3.40198936],\n",
        "       [ 4.8831507 ,  1.65224094],\n",
        "       [ 1.729515  ,  3.96939671],\n",
        "       [ 1.82687659,  4.94362119],\n",
        "       [ 2.58638102,  2.25254519],\n",
        "       [ 4.92294203,  4.48051479],\n",
        "       [ 4.86755896,  3.90604466],\n",
        "       [ 2.13877431,  4.91006495],\n",
        "       [ 2.73199663,  3.8024564 ],\n",
        "       [ 3.94725197,  2.84498991],\n",
        "       [ 3.61407937,  3.92220667]])"
       ]
      }
     ],
     "prompt_number": 99
    },
    {
     "cell_type": "code",
     "collapsed": false,
     "input": [
      "5.5/6.2"
     ],
     "language": "python",
     "metadata": {},
     "outputs": [
      {
       "metadata": {},
       "output_type": "pyout",
       "prompt_number": 72,
       "text": [
        "0.8870967741935484"
       ]
      }
     ],
     "prompt_number": 72
    },
    {
     "cell_type": "code",
     "collapsed": false,
     "input": [
      "len(C)"
     ],
     "language": "python",
     "metadata": {},
     "outputs": [
      {
       "metadata": {},
       "output_type": "pyout",
       "prompt_number": 73,
       "text": [
        "100"
       ]
      }
     ],
     "prompt_number": 73
    },
    {
     "cell_type": "code",
     "collapsed": false,
     "input": [
      "C = np.array([[0., -0.7], [5.5, .7]])"
     ],
     "language": "python",
     "metadata": {},
     "outputs": [],
     "prompt_number": 75
    },
    {
     "cell_type": "code",
     "collapsed": false,
     "input": [
      "norm(C)"
     ],
     "language": "python",
     "metadata": {},
     "outputs": [
      {
       "metadata": {},
       "output_type": "pyout",
       "prompt_number": 77,
       "text": [
        "5.5883808030591471"
       ]
      }
     ],
     "prompt_number": 77
    },
    {
     "cell_type": "code",
     "collapsed": false,
     "input": [
      "np.linalg.norm(C)"
     ],
     "language": "python",
     "metadata": {},
     "outputs": [
      {
       "metadata": {},
       "output_type": "pyout",
       "prompt_number": 81,
       "text": [
        "5.5883808030591471"
       ]
      }
     ],
     "prompt_number": 81
    },
    {
     "cell_type": "code",
     "collapsed": false,
     "input": [
      "which python"
     ],
     "language": "python",
     "metadata": {},
     "outputs": [
      {
       "ename": "SyntaxError",
       "evalue": "invalid syntax (<ipython-input-82-2c530a9741f4>, line 1)",
       "output_type": "pyerr",
       "traceback": [
        "\u001b[1;36m  File \u001b[1;32m\"<ipython-input-82-2c530a9741f4>\"\u001b[1;36m, line \u001b[1;32m1\u001b[0m\n\u001b[1;33m    which python\u001b[0m\n\u001b[1;37m               ^\u001b[0m\n\u001b[1;31mSyntaxError\u001b[0m\u001b[1;31m:\u001b[0m invalid syntax\n"
       ]
      }
     ],
     "prompt_number": 82
    },
    {
     "cell_type": "code",
     "collapsed": false,
     "input": [
      "scatter?"
     ],
     "language": "python",
     "metadata": {},
     "outputs": [],
     "prompt_number": 83
    },
    {
     "cell_type": "code",
     "collapsed": false,
     "input": [
      "from sklearn.mixture import GMM\n",
      "GMM?"
     ],
     "language": "python",
     "metadata": {},
     "outputs": [],
     "prompt_number": 85
    },
    {
     "cell_type": "code",
     "collapsed": false,
     "input": [
      "np.random.seed(0)\n",
      "C = np.array([[0., -0.7], [3.5, .7]])\n",
      "X = np.r_[np.dot(np.random.randn(n, 2), C),\n",
      "          np.random.randn(n, 2) + np.array([2, 4])]"
     ],
     "language": "python",
     "metadata": {},
     "outputs": [],
     "prompt_number": 102
    },
    {
     "cell_type": "code",
     "collapsed": false,
     "input": [
      "C\n",
      "A = np.random.randn(n,2)\n",
      "A"
     ],
     "language": "python",
     "metadata": {},
     "outputs": [
      {
       "metadata": {},
       "output_type": "pyout",
       "prompt_number": 112,
       "text": [
        "array([[-0.36918184, -0.23937918],\n",
        "       [ 1.0996596 ,  0.65526373],\n",
        "       [ 0.64013153, -1.61695604],\n",
        "       [-0.02432612, -0.73803091],\n",
        "       [ 0.2799246 , -0.09815039],\n",
        "       [ 0.91017891,  0.31721822],\n",
        "       [ 0.78632796, -0.4664191 ],\n",
        "       [-0.94444626, -0.41004969],\n",
        "       [-0.01702041,  0.37915174],\n",
        "       [ 2.25930895, -0.04225715],\n",
        "       [-0.955945  , -0.34598178],\n",
        "       [-0.46359597,  0.48148147],\n",
        "       [-1.54079701,  0.06326199],\n",
        "       [ 0.15650654,  0.23218104],\n",
        "       [-0.59731607, -0.23792173],\n",
        "       [-1.42406091, -0.49331988],\n",
        "       [-0.54286148,  0.41605005],\n",
        "       [-1.15618243,  0.7811981 ],\n",
        "       [ 1.49448454, -2.06998503],\n",
        "       [ 0.42625873,  0.67690804]])"
       ]
      }
     ],
     "prompt_number": 112
    },
    {
     "cell_type": "code",
     "collapsed": false,
     "input": [
      "C"
     ],
     "language": "python",
     "metadata": {},
     "outputs": [
      {
       "metadata": {},
       "output_type": "pyout",
       "prompt_number": 114,
       "text": [
        "array([[ 0. , -0.7],\n",
        "       [ 3.5,  0.7]])"
       ]
      }
     ],
     "prompt_number": 114
    },
    {
     "cell_type": "code",
     "collapsed": false,
     "input": [
      "np.dot(A, C)"
     ],
     "language": "python",
     "metadata": {},
     "outputs": [
      {
       "metadata": {},
       "output_type": "pyout",
       "prompt_number": 113,
       "text": [
        "array([[-0.83782712,  0.09086186],\n",
        "       [ 2.29342306, -0.31107711],\n",
        "       [-5.65934616, -1.5799613 ],\n",
        "       [-2.58310818, -0.49959335],\n",
        "       [-0.34352636, -0.26465249],\n",
        "       [ 1.11026375, -0.41507249],\n",
        "       [-1.63246684, -0.87692294],\n",
        "       [-1.43517393,  0.37407759],\n",
        "       [ 1.32703107,  0.2773205 ],\n",
        "       [-0.14790003, -1.61109627],\n",
        "       [-1.21093621,  0.42697426],\n",
        "       [ 1.68518516,  0.66155421],\n",
        "       [ 0.22141698,  1.12284131],\n",
        "       [ 0.81263363,  0.05297215],\n",
        "       [-0.83272605,  0.25157604],\n",
        "       [-1.72661959,  0.65151872],\n",
        "       [ 1.45617516,  0.67123807],\n",
        "       [ 2.73419336,  1.35616637],\n",
        "       [-7.24494759, -2.4951287 ],\n",
        "       [ 2.36917812,  0.17545451]])"
       ]
      }
     ],
     "prompt_number": 113
    },
    {
     "cell_type": "code",
     "collapsed": false,
     "input": [
      "-0.37*-0.7-0.24*0.7"
     ],
     "language": "python",
     "metadata": {},
     "outputs": [
      {
       "metadata": {},
       "output_type": "pyout",
       "prompt_number": 115,
       "text": [
        "0.09100000000000003"
       ]
      }
     ],
     "prompt_number": 115
    },
    {
     "cell_type": "code",
     "collapsed": false,
     "input": [
      "np.r_?"
     ],
     "language": "python",
     "metadata": {},
     "outputs": [],
     "prompt_number": 107
    },
    {
     "cell_type": "code",
     "collapsed": false,
     "input": [
      "X.shape"
     ],
     "language": "python",
     "metadata": {},
     "outputs": [
      {
       "metadata": {},
       "output_type": "pyout",
       "prompt_number": 108,
       "text": [
        "(40, 2)"
       ]
      }
     ],
     "prompt_number": 108
    },
    {
     "cell_type": "code",
     "collapsed": false,
     "input": [
      "np.random.randn?"
     ],
     "language": "python",
     "metadata": {},
     "outputs": [],
     "prompt_number": 110
    },
    {
     "cell_type": "code",
     "collapsed": false,
     "input": [
      "np.random.randn(n, 2)"
     ],
     "language": "python",
     "metadata": {},
     "outputs": [
      {
       "metadata": {},
       "output_type": "pyout",
       "prompt_number": 111,
       "text": [
        "array([[-0.49803245,  1.92953205],\n",
        "       [ 0.94942081,  0.08755124],\n",
        "       [-1.22543552,  0.84436298],\n",
        "       [-1.00021535, -1.5447711 ],\n",
        "       [ 1.18802979,  0.31694261],\n",
        "       [ 0.92085882,  0.31872765],\n",
        "       [ 0.85683061, -0.65102559],\n",
        "       [-1.03424284,  0.68159452],\n",
        "       [-0.80340966, -0.68954978],\n",
        "       [-0.4555325 ,  0.01747916],\n",
        "       [-0.35399391, -1.37495129],\n",
        "       [-0.6436184 , -2.22340315],\n",
        "       [ 0.62523145, -1.60205766],\n",
        "       [-1.10438334,  0.05216508],\n",
        "       [-0.739563  ,  1.5430146 ],\n",
        "       [-1.29285691,  0.26705087],\n",
        "       [-0.03928282, -1.1680935 ],\n",
        "       [ 0.52327666, -0.17154633],\n",
        "       [ 0.77179055,  0.82350415],\n",
        "       [ 2.16323595,  1.33652795]])"
       ]
      }
     ],
     "prompt_number": 111
    },
    {
     "cell_type": "code",
     "collapsed": false,
     "input": [
      "import numpy as np\n",
      "from sklearn.mixture import GMM\n",
      "import itertools\n",
      "\n",
      "import pylab as pl\n",
      "import matplotlib as mpl\n",
      "from numpy.random import multivariate_normal"
     ],
     "language": "python",
     "metadata": {},
     "outputs": [],
     "prompt_number": 117
    },
    {
     "cell_type": "code",
     "collapsed": false,
     "input": [
      "n, m = 300, 2\n",
      "\n",
      "# generate random sample, two components\n",
      "np.random.seed(0)\n",
      "C = np.array([[0., -0.7], [3.5, .7]])\n",
      "cov_1 = np.array([[8., 1.5],[1.5,1]])\n",
      "X_mul = multivariate_normal(np.array([0,0]),cov_1,n)\n",
      "X = np.r_[np.dot(np.random.randn(n, 2), C),\n",
      "          np.random.randn(n, 2) + np.array([2, 4]),\n",
      "          np.random.randn(n, 2) + np.array([-1,1])]\n",
      "\n",
      "clf_diag = GMM(n_components=3, covariance_type='diag')\n",
      "clf_diag.fit(X)\n",
      "\n",
      "Y_diag = clf_diag.predict(X)\n",
      "Y_correct = np.array([[0]*n+[1]*n+[2]*n]).flatten()"
     ],
     "language": "python",
     "metadata": {},
     "outputs": [],
     "prompt_number": 132
    },
    {
     "cell_type": "code",
     "collapsed": false,
     "input": [
      "figure(num=None, figsize=(12, 12), dpi=120, facecolor='w', edgecolor='k')\n",
      "splot = pl.subplot(111, aspect='equal')\n",
      "color_iter = itertools.cycle (['r', 'b', 'g', 'c'])\n",
      "\n",
      "for i, (mean, covar_arr, color) in enumerate(zip(clf_diag.means_, clf_diag.covars_, color_iter)):\n",
      "    pl.scatter(X_mul[:,0], X_mul[:,1], 30, color=color, alpha = 0.45)\n",
      "pl.xlim(-13,10)\n",
      "\n",
      "pl.show()"
     ],
     "language": "python",
     "metadata": {},
     "outputs": [
      {
       "metadata": {},
       "output_type": "display_data",
       "png": "[encoded data removed]",
       "text": [
        "<matplotlib.figure.Figure at 0x7888b90>"
       ]
      }
     ],
     "prompt_number": 133
    },
    {
     "cell_type": "code",
     "collapsed": false,
     "input": [],
     "language": "python",
     "metadata": {},
     "outputs": [
      {
       "metadata": {},
       "output_type": "pyout",
       "prompt_number": 121,
       "text": [
        "array([ 0.63066379,  3.49987072])"
       ]
      }
     ],
     "prompt_number": 121
    },
    {
     "cell_type": "code",
     "collapsed": false,
     "input": [],
     "language": "python",
     "metadata": {},
     "outputs": []
    }
   ],
   "metadata": {}
  }
 ]
}